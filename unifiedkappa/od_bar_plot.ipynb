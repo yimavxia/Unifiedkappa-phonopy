{
 "cells": [
  {
   "cell_type": "code",
   "execution_count": null,
   "id": "ff50a41a-3372-49b7-9428-b48287b8a225",
   "metadata": {},
   "outputs": [],
   "source": [
    "import numpy as np\n",
    "import matplotlib.pyplot as plt\n",
    "from mpl_toolkits.mplot3d import Axes3D\n",
    "\n",
    "bluethis='#009ADE'\n",
    "redthis='#FF1F5B'\n",
    "greenthis='#00CD6C'\n",
    "purplethis='#AF58BA'\n",
    "\n",
    "# Example 2D data\n",
    "data=np.loadtxt(\"array_od_xx.txt\")\n",
    "delta_freq = 2\n",
    "\n",
    "nrows, ncols = data.shape\n",
    "xpos, ypos = np.meshgrid(np.arange(ncols)*delta_freq, np.arange(nrows)*delta_freq)  # grid of x, y positions\n",
    "xpos = xpos.flatten()\n",
    "ypos = ypos.flatten()\n",
    "zpos = np.zeros_like(xpos)  # start all bars from z=0\n",
    "\n",
    "# Bar dimensions\n",
    "dx = dy = 0.9  # bar width and depth\n",
    "dz = data.flatten()  # bar height from data\n",
    "\n",
    "# Create 3D plot\n",
    "fig = plt.figure()\n",
    "ax = fig.add_subplot(111, projection='3d')\n",
    "ax.view_init(elev=30, azim=60)\n",
    "\n",
    "ax.bar3d(xpos, ypos, zpos, dx, dy, dz, color=greenthis, edgecolor='none')\n",
    "\n",
    "ax.set_xlabel('Frequency (radius Thz)')\n",
    "ax.set_ylabel('Frequency (radius Thz)')\n",
    "ax.set_zlabel('Thermal conductivity')\n",
    "#ax.set_title('3D Bar Plot of 2D Array')\n",
    "\n",
    "plt.show()\n"
   ]
  }
 ],
 "metadata": {
  "kernelspec": {
   "display_name": "Python 3 (ipykernel)",
   "language": "python",
   "name": "python3"
  },
  "language_info": {
   "codemirror_mode": {
    "name": "ipython",
    "version": 3
   },
   "file_extension": ".py",
   "mimetype": "text/x-python",
   "name": "python",
   "nbconvert_exporter": "python",
   "pygments_lexer": "ipython3",
   "version": "3.12.7"
  }
 },
 "nbformat": 4,
 "nbformat_minor": 5
}
